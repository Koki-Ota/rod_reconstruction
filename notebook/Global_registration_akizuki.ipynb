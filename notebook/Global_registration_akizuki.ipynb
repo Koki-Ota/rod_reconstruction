{
 "cells": [
  {
   "cell_type": "code",
   "execution_count": 1,
   "metadata": {},
   "outputs": [],
   "source": [
    "import open3d\n",
    "from open3d import *\n",
    "import numpy as np\n",
    "import copy"
   ]
  },
  {
   "cell_type": "code",
   "execution_count": 2,
   "metadata": {},
   "outputs": [],
   "source": [
    "def draw_registration_result(source, target, transformation):\n",
    "    source_temp = copy.deepcopy(source)\n",
    "    target_temp = copy.deepcopy(target)\n",
    "    source_temp.paint_uniform_color([1, 0.706, 0])\n",
    "    target_temp.paint_uniform_color([0, 0.651, 0.929])\n",
    "    source_temp.transform(transformation)\n",
    "    draw_geometries([source_temp, target_temp])"
   ]
  },
  {
   "cell_type": "code",
   "execution_count": 3,
   "metadata": {},
   "outputs": [
    {
     "name": "stdout",
     "output_type": "stream",
     "text": [
      "1. Load two point clouds and disturb initial pose.\n"
     ]
    }
   ],
   "source": [
    "print(\"1. Load two point clouds and disturb initial pose.\")\n",
    "source = read_point_cloud(\"../data/door_original.ply\")\n",
    "target = read_point_cloud(\"../data/door_obtained.ply\")\n",
    "trans_init = np.asarray([[0.0, 1.0, 0.0, 0.0],\n",
    "                        [1.0, 0.0, 0.0, 0.0],\n",
    "                        [0.0, 0.0, 1.0, 0.0],\n",
    "                        [0.0, 0.0, 0.0, 1.0]])\n",
    "source.transform(trans_init)\n",
    "draw_registration_result(source, target, np.identity(4))"
   ]
  },
  {
   "cell_type": "code",
   "execution_count": 4,
   "metadata": {},
   "outputs": [
    {
     "name": "stdout",
     "output_type": "stream",
     "text": [
      "2. Downsample with a voxel size 0.05.\n",
      "3. Estimate normal with search radius 0.1.\n",
      "4. Compute FPFH feature with search radius 0.25\n"
     ]
    }
   ],
   "source": [
    "print(\"2. Downsample with a voxel size 0.05.\")\n",
    "source_down = voxel_down_sample(source, 0.05)\n",
    "target_down = voxel_down_sample(target, 0.05)\n",
    "\n",
    "print(\"3. Estimate normal with search radius 0.1.\")\n",
    "estimate_normals(source_down, KDTreeSearchParamHybrid(\n",
    "        radius = 0.1, max_nn = 30))\n",
    "estimate_normals(target_down, KDTreeSearchParamHybrid(\n",
    "        radius = 0.1, max_nn = 30))\n",
    "\n",
    "print(\"4. Compute FPFH feature with search radius 0.25\")\n",
    "source_fpfh = compute_fpfh_feature(source_down,\n",
    "        KDTreeSearchParamHybrid(radius = 0.25, max_nn = 100))\n",
    "target_fpfh = compute_fpfh_feature(target_down,\n",
    "        KDTreeSearchParamHybrid(radius = 0.25, max_nn = 100))"
   ]
  },
  {
   "cell_type": "code",
   "execution_count": 9,
   "metadata": {},
   "outputs": [
    {
     "ename": "SyntaxError",
     "evalue": "positional argument follows keyword argument (<ipython-input-9-567b29f6e245>, line 7)",
     "output_type": "error",
     "traceback": [
      "\u001b[0;36m  File \u001b[0;32m\"<ipython-input-9-567b29f6e245>\"\u001b[0;36m, line \u001b[0;32m7\u001b[0m\n\u001b[0;31m    TransformationEstimationPointToPoint(False),\u001b[0m\n\u001b[0m    ^\u001b[0m\n\u001b[0;31mSyntaxError\u001b[0m\u001b[0;31m:\u001b[0m positional argument follows keyword argument\n"
     ]
    }
   ],
   "source": [
    "print(\"5. RANSAC registration on down-sampled point clouds.\")\n",
    "print(\"   Since the downsampling voxel size is 0.05, we use a liberal\")\n",
    "print(\"   distance threshold 0.075.\")\n",
    "result_ransac = registration_ransac_based_on_feature_matching(\n",
    "        source_down, target_down, source_fpfh, target_fpfh,\n",
    "        fpfh, max_correspondence_distance = 0.075,\n",
    "        TransformationEstimationPointToPoint(False),\n",
    "        ransac_n = 4,\n",
    "        [CorrespondenceCheckerBasedOnEdgeLength(0.9),\n",
    "        CorrespondenceCheckerBasedOnDistance(0.075)],\n",
    "        RANSACConvergenceCriteria(max_iteration = 4000000, max_validation = 500))\n",
    "print(result_ransac)\n",
    "draw_registration_result(source_down, target_down, result_ransac.transformation)"
   ]
  },
  {
   "cell_type": "code",
   "execution_count": null,
   "metadata": {},
   "outputs": [],
   "source": [
    "print(\"6. Point-to-plane ICP registration is applied on original point\")\n",
    "print(\"   clouds to refine the alignment. This time we use a strict\")\n",
    "print(\"   distance threshold 0.02.\")\n",
    "result_icp = registration_icp(source, target, 0.02,\n",
    "        result_ransac.transformation,\n",
    "        TransformationEstimationPointToPlane())\n",
    "print(result_icp)\n",
    "draw_registration_result(source, target, result_icp.transformation)"
   ]
  },
  {
   "cell_type": "code",
   "execution_count": null,
   "metadata": {},
   "outputs": [],
   "source": []
  }
 ],
 "metadata": {
  "kernelspec": {
   "display_name": "Python 3",
   "language": "python",
   "name": "python3"
  },
  "language_info": {
   "codemirror_mode": {
    "name": "ipython",
    "version": 3
   },
   "file_extension": ".py",
   "mimetype": "text/x-python",
   "name": "python",
   "nbconvert_exporter": "python",
   "pygments_lexer": "ipython3",
   "version": "3.6.6"
  }
 },
 "nbformat": 4,
 "nbformat_minor": 2
}
